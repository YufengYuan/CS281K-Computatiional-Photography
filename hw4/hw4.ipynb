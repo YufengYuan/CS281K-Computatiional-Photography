{
 "cells": [
  {
   "cell_type": "markdown",
   "metadata": {},
   "source": [
    "# Homework 4\n",
    "#### Yufeng Yuan\n",
    "#### yy208@duke.edu"
   ]
  },
  {
   "cell_type": "code",
   "execution_count": 1,
   "metadata": {},
   "outputs": [
    {
     "name": "stderr",
     "output_type": "stream",
     "text": [
      "/home/arthur/Softwares/anaconda3/lib/python3.6/site-packages/skimage/viewer/utils/core.py:10: UserWarning: Recommended matplotlib backend is `Agg` for full skimage.viewer functionality.\n",
      "  warn(\"Recommended matplotlib backend is `Agg` for full \"\n"
     ]
    }
   ],
   "source": [
    "import numpy as np\n",
    "import matplotlib as mpl\n",
    "import matplotlib.pyplot as plt\n",
    "import subprocess\n",
    "import skimage\n",
    "import skimage.io as imio\n",
    "import skimage.transform as trans\n",
    "import skimage.filters as filters\n",
    "from skimage.viewer import ImageViewer\n",
    "import glob\n",
    "import re\n",
    "import os\n",
    "from moviepy.editor import *\n",
    "from time import gmtime, strftime, sleep\n",
    "from scipy import interpolate as interp\n",
    "%matplotlib inline\n",
    "mpl.rcParams['figure.figsize'] = (16.0, 8.0)"
   ]
  },
  {
   "cell_type": "code",
   "execution_count": 85,
   "metadata": {
    "collapsed": true
   },
   "outputs": [],
   "source": [
    "def move_focus(sid=1, step=0):\n",
    "    cmD='rsh ubuntu@10.0.1.7 \"sudo python2 ~/Desktop/moveFocusMotor.py '+str(sid+1)+' '+str(step)+'\"'\n",
    "    pop=subprocess.run(cmD, stdout=subprocess.PIPE, shell=True)\n",
    "    #return pop.stdout\n",
    "\n",
    "def take_photos(sid=1, step=0, iters=1, start=0):\n",
    "    subprocess.run('rm dbGrab*', \\\n",
    "               stdout=subprocess.PIPE, shell=True)\n",
    "    subprocess.run('rsh ubuntu@10.0.1.7 \"rm dbGrab*\"', \\\n",
    "               stdout=subprocess.PIPE, shell=True)\n",
    "    cmD='rsh ubuntu@10.0.1.7 \"sudo python2 ~/Desktop/moveFocusMotor.py '+str(sid+1)+' '+str(start)+'\"'\n",
    "    subprocess.run(cmD, stdout=subprocess.PIPE, shell=True)\n",
    "    for i in range(iters):\n",
    "        subprocess.run('rsh ubuntu@10.0.1.7 \"nvgstcapture-1.0 -m 1 --sensor-id '+str(sid)+' -A --capture-auto 1 \\\n",
    "                --file-name dbGrab_'+str(i*step)+' --image-res 8\"', stdout=subprocess.PIPE, shell=True)\n",
    "        cmD='rsh ubuntu@10.0.1.7 \"sudo python2 ~/Desktop/moveFocusMotor.py '+str(sid+1)+' '+str(step)+'\"'\n",
    "        subprocess.run(cmD, stdout=subprocess.PIPE, shell=True)\n",
    "    subprocess.run('rcp ubuntu@10.0.1.7:dbGrab* .', \\\n",
    "                stdout=subprocess.PIPE, shell=True)\n",
    "    pop=subprocess.run('ls',stdout=subprocess.PIPE, shell=True)\n",
    "    rePop=pop.stdout\n",
    "    rePop=rePop.decode(\"utf-8\")\n",
    "    fileName = re.search(r'dbGrab(.*).jpg', rePop)\n",
    "    fileName=fileName.group()\n",
    "    pop=imio.imread(fileName)\n",
    "    return pop\n",
    "\n",
    "def read_eval(x=0, y=0, h=2160, w=3840):\n",
    "    names = os.listdir()\n",
    "    pics = []\n",
    "    scores = []\n",
    "    for name in sorted(names):\n",
    "        if name[:6] == 'dbGrab':\n",
    "            pic = imio.imread(name)\n",
    "            pics.append(pic)\n",
    "            scores.append(np.sum(filters.sobel(pic[x:x+w, y:y+h,0])))\n",
    "    ind = scores.index(max(scores))\n",
    "    #imio.imshow(pics[ind])\n",
    "    focus = 100 * ind\n",
    "    return focus, pics[ind], scores\n",
    "\n",
    "def auto_focus(sid=1, region=[0,0,2160,3840]):\n",
    "    take_photos(sid, 100, 10)\n",
    "    x, y, h, w = region\n",
    "    focus, pics, scores = read_eval(x, y, h, w)\n",
    "    start = -1500\n",
    "    cmD='rsh ubuntu@10.0.1.7 \"sudo python2 ~/Desktop/moveFocusMotor.py '+str(sid+1)+' '+str(start)+'\"'\n",
    "    subprocess.run(cmD, stdout=subprocess.PIPE, shell=True)\n",
    "    cmD='rsh ubuntu@10.0.1.7 \"sudo python2 ~/Desktop/moveFocusMotor.py '+str(sid+1)+' '+str(focus+100)+'\"'\n",
    "    subprocess.run(cmD, stdout=subprocess.PIPE, shell=True)\n",
    "    pop = take_photos(sid, 0, 1, 0)\n",
    "    imio.imshow(pop)\n",
    "    return focus, pop, scores\n",
    "\n",
    "def grabVideo(sid=1, imres=8, cameraNumber=7, fps=30):\n",
    "    # I will use the file name vidGrab.... for the image grabbed from the camera. First step is to get rid of previously grabbed images\n",
    "    cmdA='rsh ubuntu@10.0.1.'+str(cameraNumber)\n",
    "    cmdB='rcp ubuntu@10.0.1.'+str(cameraNumber)\n",
    "    subprocess.run('rm vidGrab*', \\\n",
    "                   stdout=subprocess.PIPE, shell=True)\n",
    "    subprocess.run(cmdA+' \"rm vidGrab*\"', \\\n",
    "                   stdout=subprocess.PIPE, shell=True)\n",
    "    # ok, now let's grab an video on the tegra\n",
    "    cmD=cmdA+' \"nvgstcapture-1.0 -m 4 --sensor-id '+str(sid)+' -A '\\\n",
    "            +'--capture-auto 1 --fpsRange=\"'+str(fps)+' '+str(fps)+'\"'\\\n",
    "            +'--capture-time 30 --file-name vidGrab --image-res '\\\n",
    "            + str(imres)+'\"'\n",
    "    subprocess.run(cmD, stdout=subprocess.PIPE, shell=True)\n",
    "    subprocess.run(cmdB+':vidGrab* .', \\\n",
    "                   stdout=subprocess.PIPE, shell=True)\n",
    "    #ok, now let's find the file name of the image we just grabbed \n",
    "    # and transfered \n",
    "    pop=subprocess.run('ls',stdout=subprocess.PIPE, shell=True)\n",
    "    rePop=pop.stdout\n",
    "    rePop=rePop.decode(\"utf-8\")\n",
    "    fileName = re.search(r'vidGrab(.*)', rePop)\n",
    "    fileName=fileName.group()\n",
    "    pop=VideoFileClip(fileName)\n",
    "    return pop\n",
    "def gstVideo(sid=1, cameraNumber=7, captureMode=1, frames=1200, fileOut=\"test.mp4\", frameRate=240):\n",
    "    cmdA='rsh ubuntu@10.0.1.'+str(cameraNumber)\n",
    "    cmdB='rcp ubuntu@10.0.1.'+str(cameraNumber)\n",
    "    cmD=cmdA+\" sudo python2 /home/ubuntu/bin/grabVidModes.py \"+str(sid)+' '+str(frames)+' '+str(captureMode)\n",
    "    a=subprocess.run(cmD, stdout=subprocess.PIPE, shell=True)\n",
    "    subprocess.run(cmdB+':grabVid.h264 .', \\\n",
    "        stdout=subprocess.PIPE, shell=True)\n",
    "    subprocess.run('ffmpeg -r '+ str(frameRate) +' -i grabVid.h264 -an -y -vcodec copy '+fileOut, \\\n",
    "        stdout=subprocess.PIPE, shell=True)\n",
    "    return a.stdout"
   ]
  },
  {
   "cell_type": "markdown",
   "metadata": {},
   "source": [
    "### Task 3"
   ]
  },
  {
   "cell_type": "code",
   "execution_count": null,
   "metadata": {
    "collapsed": true
   },
   "outputs": [],
   "source": [
    "gstVideo(sid=1,captureMode=4, fileOut=\"clock_240.mp4\", frameRate=240)\n",
    "gstVideo(sid=1,captureMode=2, fileOut=\"clock_120.mp4\", frameRate=120)\n",
    "gstVideo(sid=1,captureMode=1, fileOut=\"clock_60.mp4\",  frameRate=60)"
   ]
  },
  {
   "cell_type": "markdown",
   "metadata": {},
   "source": [
    "These videos are too large or the frame rate is too high to be played in Jupyter Notebook, you may play them with VLC in your local machine"
   ]
  },
  {
   "cell_type": "markdown",
   "metadata": {},
   "source": [
    "### Task 4"
   ]
  },
  {
   "cell_type": "code",
   "execution_count": null,
   "metadata": {},
   "outputs": [],
   "source": [
    "gstVideo(sid=1,captureMode=1, fileOut=\"clock_240_10.mp4\",  frameRate=10)\n",
    "gstVideo(sid=1,captureMode=1, fileOut=\"water_240_20.mp4\",  frameRate=20)"
   ]
  },
  {
   "cell_type": "markdown",
   "metadata": {},
   "source": [
    "The interesting effects that I noticed is as follows. For the video of clock, whose original frame rate is 240 fps, if I play it at 10 fps, the change of 0.01s can be observed. This is impossible for a video of 30 or 60 fps.\n",
    "Similarly, for the water video of 240 fps, if I play it at 10 fps, the continuity of the movement of bubble are more obvious than those of 30 or 60 fps."
   ]
  },
  {
   "cell_type": "markdown",
   "metadata": {},
   "source": [
    "### Task 5"
   ]
  },
  {
   "cell_type": "code",
   "execution_count": null,
   "metadata": {
    "collapsed": true
   },
   "outputs": [],
   "source": [
    "gstVideo(sid=1,captureMode=4, fileOut=\"dark_240.mp4\", frameRate=240)\n",
    "gstVideo(sid=1,captureMode=2, fileOut=\"dark_120.mp4\", frameRate=120)\n",
    "gstVideo(sid=1,captureMode=1, fileOut=\"dark_60.mp4\",  frameRate=60)"
   ]
  },
  {
   "cell_type": "markdown",
   "metadata": {},
   "source": [
    "From those videos, it obvious that in dark environment, higher frame rate causes more noise. I think this can be explained by the theory mentioned in class. The photons in dark environment is already limited, higher frame rate would make photons for each pixel in every frame rate decrease. The result is that the effect of noise would be more apparent.  "
   ]
  }
 ],
 "metadata": {
  "kernelspec": {
   "display_name": "Python 3",
   "language": "python",
   "name": "python3"
  },
  "language_info": {
   "codemirror_mode": {
    "name": "ipython",
    "version": 3
   },
   "file_extension": ".py",
   "mimetype": "text/x-python",
   "name": "python",
   "nbconvert_exporter": "python",
   "pygments_lexer": "ipython3",
   "version": "3.6.1"
  }
 },
 "nbformat": 4,
 "nbformat_minor": 2
}
